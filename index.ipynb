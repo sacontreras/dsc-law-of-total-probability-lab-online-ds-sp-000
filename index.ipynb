{
 "cells": [
  {
   "cell_type": "markdown",
   "metadata": {},
   "source": [
    "# Partitioning and Law of Total Probability - Lab\n",
    "\n",
    "## Introduction \n",
    "In this lab, you'll practice your knowledge of the law of total probability. In probability theory, the law (or formula) of total probability is a fundamental rule relating **marginal probabilities** to **conditional probabilities**.\n",
    "\n",
    "## Objectives\n",
    "\n",
    "You will be able to:\n",
    "\n",
    "* Differentiate between independent and dependent events\n",
    "* Perform partitioning based on known and unknown probabilities to solve a problem"
   ]
  },
  {
   "cell_type": "markdown",
   "metadata": {},
   "source": [
    "## Exercise 1\n",
    "Imagine you have two hats: one has 4 red balls and 6 green balls, the other has 6 red and 4 green. We toss a fair coin, if heads, you will pick a random ball from the first hat, if tails you will pick one from the second hat. \n",
    "\n",
    "What is the probability of getting a red ball?"
   ]
  },
  {
   "cell_type": "code",
   "execution_count": 1,
   "metadata": {},
   "outputs": [
    {
     "data": {
      "text/plain": [
       "0.5"
      ]
     },
     "execution_count": 1,
     "metadata": {},
     "output_type": "execute_result"
    }
   ],
   "source": [
    "# Your code here\n",
    "P_red_from_h1 = 4/10\n",
    "P_heads = 1/2\n",
    "P_red_from_h2 = 6/10\n",
    "P_tails = 1/2\n",
    "\n",
    "P_red_given_heads = P_red_from_h1 * P_heads\n",
    "P_red_given_tails = P_red_from_h2 * P_tails\n",
    "P_red = P_red_given_heads + P_red_given_tails\n",
    "P_red"
   ]
  },
  {
   "cell_type": "markdown",
   "metadata": {},
   "source": [
    "## Exercise 2\n",
    "In games where at least one goal is made, a soccer team wins 60% of its games when it scores the first goal, and 10% of its games when the opposing team \n",
    "scores first. \n",
    "\n",
    "If the team scores the first goal about 30% of the time, what fraction of the games does it win?"
   ]
  },
  {
   "cell_type": "code",
   "execution_count": 2,
   "metadata": {},
   "outputs": [
    {
     "data": {
      "text/plain": [
       "0.25"
      ]
     },
     "execution_count": 2,
     "metadata": {},
     "output_type": "execute_result"
    }
   ],
   "source": [
    "# Your code here\n",
    "P_team_scores_first = .30\n",
    "P_team_wins_given_scored_first = .60\n",
    "P_team_wins_given_did_not_score_first = .10\n",
    "\n",
    "P_team_wins = (P_team_wins_given_scored_first * P_team_scores_first) + (P_team_wins_given_did_not_score_first * (1-P_team_scores_first))\n",
    "P_team_wins"
   ]
  },
  {
   "cell_type": "markdown",
   "metadata": {},
   "source": [
    "## Exercise 3"
   ]
  },
  {
   "cell_type": "markdown",
   "metadata": {},
   "source": [
    "In Europe, except for regular gas, cars often run on diesel as well. At a gas station in Paris; \n",
    "\n",
    "\n",
    "* 40% of the customers fill up with diesel (event G1) \n",
    "* 35% with gas \"Super 95\" (event G2)\n",
    "* 25% with gas \"Super 98\" (event G3). \n",
    "\n",
    "\n",
    "* 30% of the customers who buy diesel fill their tank completely (event F). \n",
    "* For \"Super 95\" and \"Super 98\", these numbers are  60% and 50%, respectively.\n",
    "\n",
    "\n",
    "- Compute the probability that the next customer completely fills their tank and buys Super 95. \n",
    "- Compute the probability that the next customer completely fills their tank\n",
    "- Given that the next customer fills their tank completely, compute the probability that they bought diesel. \n",
    "\n",
    "Hint: Consult the theorems for conditional probability, check for dependence or independence of events"
   ]
  },
  {
   "cell_type": "code",
   "execution_count": 3,
   "metadata": {},
   "outputs": [
    {
     "name": "stdout",
     "output_type": "stream",
     "text": [
      "P(F and G2)==0.21\n",
      "P(F)==0.45499999999999996\n",
      "P(G1|F)==0.26373626373626374\n"
     ]
    }
   ],
   "source": [
    "# Your code here\n",
    "P_G1 = .40\n",
    "P_G2 = .35\n",
    "P_G3 = .25\n",
    "\n",
    "P_F_given_G1 = .30\n",
    "P_F_given_G2 = .60\n",
    "P_F_given_G3 = .50\n",
    "\n",
    "P_F_and_G2 = P_F_given_G2 * P_G2\n",
    "print(f\"P(F and G2)=={P_F_and_G2}\")\n",
    "\n",
    "P_F_and_G1 = P_F_given_G1 * P_G1\n",
    "P_F_and_G3 = P_F_given_G3 * P_G3\n",
    "\n",
    "P_F = P_F_and_G1 + P_F_and_G2 + P_F_and_G3\n",
    "print(f\"P(F)=={P_F}\")\n",
    "\n",
    "P_G1_given_F = P_F_and_G1/P_F\n",
    "print(f\"P(G1|F)=={P_G1_given_F}\")"
   ]
  },
  {
   "cell_type": "markdown",
   "metadata": {},
   "source": [
    "## Exercise 4"
   ]
  },
  {
   "cell_type": "markdown",
   "metadata": {},
   "source": [
    "United Airlines operates flights from JFK to Amsterdam, to Brussels, and to Copenhagen. As you may know, flights are overbooked fairly often. Let's denote the probability of the flight to Amsterdam being overbooked equal to 40%, the probability of the flight to Brussels being overbooked equal to 25%, and the probability of the flight to Copenhagen being overbooked equal to 35%. You can assume that these events of overbooking are independent events."
   ]
  },
  {
   "cell_type": "markdown",
   "metadata": {},
   "source": [
    "- Compute the probability that all the flights are overbooked.\n",
    "- Compute the probability of having at least one flight which is not overbooked.\n",
    "- Compute the probability that exactly one flight is overbooked."
   ]
  },
  {
   "cell_type": "code",
   "execution_count": 4,
   "metadata": {},
   "outputs": [
    {
     "name": "stdout",
     "output_type": "stream",
     "text": [
      "P(A and B and C)==0.034999999999999996\n",
      "P(~A or ~B or ~C)==0.965\n",
      "P(only one overbooked)==0.45000000000000007\n"
     ]
    }
   ],
   "source": [
    "# Your code here\n",
    "P_A = .40\n",
    "P_B = .25\n",
    "P_C = .35\n",
    "\n",
    "P_ABC = P_A * P_B * P_C\n",
    "print(f\"P(A and B and C)=={P_ABC}\")\n",
    "\n",
    "P_not_A_or_not_B_or_not_C = 1-P_ABC\n",
    "print(f\"P(~A or ~B or ~C)=={P_not_A_or_not_B_or_not_C}\")\n",
    "\n",
    "P_A_and_not_B_and_not_C = P_A*(1-P_B)*(1-P_C)\n",
    "P_B_and_not_A_and_not_C = P_B*(1-P_A)*(1-P_C)\n",
    "P_C_and_not_A_and_not_B = P_C*(1-P_A)*(1-P_B)\n",
    "P_only_one = P_A_and_not_B_and_not_C + P_B_and_not_A_and_not_C + P_C_and_not_A_and_not_B\n",
    "print(f\"P(only one overbooked)=={P_only_one}\")"
   ]
  },
  {
   "cell_type": "markdown",
   "metadata": {},
   "source": [
    "## Exercise 5\n",
    "You have three bags that each contain 100 marbles:\n",
    "\n",
    "- Bag 1 has 75 red and 25 blue marbles;\n",
    "- Bag 2 has 60 red and 40 blue marbles;\n",
    "- Bag 3 has 45 red and 55 blue marbles.\n",
    "\n",
    "You choose one of the bags at random and then pick a marble from the chosen bag, also at random. \n",
    "\n",
    "What is the probability that the chosen marble is red?\n"
   ]
  },
  {
   "cell_type": "code",
   "execution_count": 5,
   "metadata": {},
   "outputs": [
    {
     "data": {
      "text/plain": [
       "0.6"
      ]
     },
     "execution_count": 5,
     "metadata": {},
     "output_type": "execute_result"
    }
   ],
   "source": [
    "# Your code here\n",
    "P_bag_1 = P_bag_2 = P_bag_3 = 1/3\n",
    "P_red_given_bag_1 = 75/100\n",
    "P_red_given_bag_2 = 60/100\n",
    "P_red_given_bag_3 = 45/100\n",
    "\n",
    "P_red = (P_red_given_bag_1*P_bag_1) + (P_red_given_bag_2*P_bag_2) + (P_red_given_bag_3*P_bag_3)\n",
    "P_red"
   ]
  },
  {
   "cell_type": "markdown",
   "metadata": {},
   "source": [
    "## Summary \n",
    "\n",
    "In this lab, you practiced conditional probability and its theorem with some simple problems. The key takeaway from this lab is to be able to identify random events as dependent or independent and calculating the probability of their occurrence using appropriate methods. Next, you'll take this knowledge a step further and run simulations with conditional and total probability. "
   ]
  }
 ],
 "metadata": {
  "kernelspec": {
   "display_name": "Python [conda env:learn-env] *",
   "language": "python",
   "name": "conda-env-learn-env-py"
  },
  "language_info": {
   "codemirror_mode": {
    "name": "ipython",
    "version": 3
   },
   "file_extension": ".py",
   "mimetype": "text/x-python",
   "name": "python",
   "nbconvert_exporter": "python",
   "pygments_lexer": "ipython3",
   "version": "3.6.10"
  },
  "toc": {
   "base_numbering": 1,
   "nav_menu": {},
   "number_sections": true,
   "sideBar": true,
   "skip_h1_title": false,
   "title_cell": "Table of Contents",
   "title_sidebar": "Contents",
   "toc_cell": false,
   "toc_position": {},
   "toc_section_display": true,
   "toc_window_display": false
  }
 },
 "nbformat": 4,
 "nbformat_minor": 4
}
